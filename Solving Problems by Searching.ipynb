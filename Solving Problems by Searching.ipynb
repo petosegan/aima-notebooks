{
 "cells": [
  {
   "cell_type": "code",
   "execution_count": 1,
   "metadata": {
    "collapsed": true
   },
   "outputs": [],
   "source": [
    "%matplotlib inline\n",
    "\n",
    "from IPython.display import clear_output\n",
    "import numpy as np\n",
    "import matplotlib.pyplot as plt\n",
    "import matplotlib.cm as cm\n",
    "import matplotlib.ticker as plticker\n",
    "import networkx as nx\n",
    "import random\n",
    "from collections import namedtuple\n",
    "import heapq"
   ]
  },
  {
   "cell_type": "code",
   "execution_count": 3,
   "metadata": {
    "collapsed": false
   },
   "outputs": [],
   "source": [
    "cities = {'Oradea'\n",
    "         , 'Zerind'\n",
    "         , 'Arad'\n",
    "         , 'Timisoara'\n",
    "         , 'Lugoj'\n",
    "         , 'Mehadia'\n",
    "         , 'Drobeta'\n",
    "         , 'Sibiu'\n",
    "         , 'Rimnicu Vilcea'\n",
    "         , 'Craiova'\n",
    "         , 'Fagaras'\n",
    "         , 'Pitesti'\n",
    "         , 'Bucharest'\n",
    "         , 'Giurgiu'\n",
    "         , 'Neamt'\n",
    "         , 'Iasi'\n",
    "         , 'Vaslui'\n",
    "         , 'Urziceni'\n",
    "         , 'Hirsova'\n",
    "         , 'Eforie'}\n",
    "\n",
    "assert len(cities) == 20"
   ]
  },
  {
   "cell_type": "code",
   "execution_count": 4,
   "metadata": {
    "collapsed": false
   },
   "outputs": [],
   "source": [
    "roads = {Road(('Oradea', 'Zerind'), 71)\n",
    "        ,Road(('Arad', 'Zerind'), 75)\n",
    "        ,Road(('Arad', 'Timisoara'), 118)\n",
    "        ,Road(('Timisoara', 'Lugoj'), 111)\n",
    "        ,Road(('Lugoj', 'Mehadia'), 70)\n",
    "        ,Road(('Mehadia', 'Drobeta'), 75)\n",
    "        ,Road(('Oradea', 'Sibiu'), 151)\n",
    "        ,Road(('Arad', 'Sibiu'), 140)\n",
    "        ,Road(('Sibiu', 'Rimnicu Vilcea'),80)\n",
    "        ,Road(('Rimnicu Vilcea', 'Craiova'), 146)\n",
    "        ,Road(('Drobeta', 'Craiova'), 120)\n",
    "        ,Road(('Sibiu', 'Fagaras'), 99)\n",
    "        ,Road(('Rimnicu Vilcea', 'Pitesti'), 97)\n",
    "        ,Road(('Pitesti', 'Craiova'), 138)\n",
    "        ,Road(('Fagaras', 'Bucharest'), 211)\n",
    "        ,Road(('Pitesti', 'Bucharest'), 101)\n",
    "        ,Road(('Bucharest', 'Giurgiu'), 90)\n",
    "        ,Road(('Bucharest', 'Urziceni'), 85)\n",
    "        ,Road(('Neamt', 'Iasi'), 87)\n",
    "        ,Road(('Iasi', 'Vaslui'), 92)\n",
    "        ,Road(('Vaslui', 'Urziceni'), 142)\n",
    "        ,Road(('Urziceni', 'Hirsova'), 98)\n",
    "        ,Road(('Hirsova', 'Eforie'), 86)}\n",
    "\n",
    "assert len(roads) == 23\n",
    "for r in roads:\n",
    "    assert r.cities[0] in cities\n",
    "    assert r.cities[1] in cities"
   ]
  },
  {
   "cell_type": "code",
   "execution_count": 5,
   "metadata": {
    "collapsed": false
   },
   "outputs": [],
   "source": [
    "def get_dest(road, city):\n",
    "    assert city in road.cities\n",
    "    for cc in road.cities:\n",
    "        if cc != city:\n",
    "            return cc\n",
    "\n",
    "def get_exits(city):\n",
    "    '''return list of tuples (city, cost) available when in state city'''\n",
    "    exits = []\n",
    "    for r in roads:\n",
    "        if city in r.cities:\n",
    "            dest = get_dest(r, city)\n",
    "            exits.append((dest, r.cost))\n",
    "    return exits\n",
    "\n",
    "roadmap = {}\n",
    "for city in cities:\n",
    "    roadmap[city] = get_exits(city)"
   ]
  },
  {
   "cell_type": "code",
   "execution_count": 6,
   "metadata": {
    "collapsed": true
   },
   "outputs": [],
   "source": [
    "class Problem():\n",
    "    def __init__(self, problem_mapping):\n",
    "        self._problem = problem_mapping\n",
    "        self.states = self._problem.keys()\n",
    "    \n",
    "    def result(self, state, action):\n",
    "        abstract\n",
    "        \n",
    "    def cost(self, action):\n",
    "        abstract\n",
    "        \n",
    "    def available(self, state):\n",
    "        assert state in self._problem\n",
    "        return self._problem[state]\n",
    "    \n",
    "    def goal_test(self, state):\n",
    "        abstract"
   ]
  },
  {
   "cell_type": "code",
   "execution_count": 7,
   "metadata": {
    "collapsed": false
   },
   "outputs": [],
   "source": [
    "class Roadmap(Problem):\n",
    "    def result(self, state, action):\n",
    "        assert action in self._problem[state]\n",
    "        return action[0]\n",
    "    \n",
    "    def cost(self, action):\n",
    "        return action[1]\n",
    "    \n",
    "    def goal_test(self, state):\n",
    "        return state == 'Bucharest'\n",
    "    \n",
    "    def view_graph(self):\n",
    "        labels = {}\n",
    "        grid_graph = self.graph\n",
    "        pos=nx.graphviz_layout(grid_graph)\n",
    "\n",
    "        for state in self.states:\n",
    "            labels[state] = state\n",
    "            for action in self._problem[state]:\n",
    "                nx.draw_networkx_edges(grid_graph, pos, edgelist=[(state, action[0])], width=1, color='r')\n",
    "\n",
    "        nx.draw_networkx_nodes(grid_graph, pos, nodelist=self.states, node_color='w', node_size=3000)\n",
    "\n",
    "        nx.draw_networkx_labels(grid_graph, pos, labels, font_size=10, font_color='red', font_weight='bold')\n",
    "\n",
    "        fig = plt.gcf()\n",
    "        fig.set_size_inches(20,10)\n",
    "        \n",
    "    @property\n",
    "    def graph(self):\n",
    "        g = nx.DiGraph()\n",
    "        for state in self.states:\n",
    "            g.add_node(state, color='blue')\n",
    "        for state in self.states:\n",
    "            for action in self._problem[state]:\n",
    "                g.add_edge(state, action[0])\n",
    "        return g"
   ]
  },
  {
   "cell_type": "code",
   "execution_count": 8,
   "metadata": {
    "collapsed": true
   },
   "outputs": [],
   "source": [
    "this_problem = Roadmap(roadmap)"
   ]
  },
  {
   "cell_type": "code",
   "execution_count": 9,
   "metadata": {
    "collapsed": false
   },
   "outputs": [
    {
     "data": {
      "image/png": "[encoded data removed]",
      "text/plain": [
       "<matplotlib.figure.Figure at 0x7f211268abd0>"
      ]
     },
     "metadata": {},
     "output_type": "display_data"
    }
   ],
   "source": [
    "this_problem.view_graph()"
   ]
  },
  {
   "cell_type": "code",
   "execution_count": 10,
   "metadata": {
    "collapsed": true
   },
   "outputs": [],
   "source": [
    "class Node():\n",
    "    def __init__(self, state, parent, action, path_cost):\n",
    "        self.state = state\n",
    "        self.parent = parent\n",
    "        self.action = action\n",
    "        self.path_cost = path_cost"
   ]
  },
  {
   "cell_type": "code",
   "execution_count": 11,
   "metadata": {
    "collapsed": true
   },
   "outputs": [],
   "source": [
    "start_node = Node('Sibiu', None, None, 0)"
   ]
  },
  {
   "cell_type": "code",
   "execution_count": 12,
   "metadata": {
    "collapsed": true
   },
   "outputs": [],
   "source": [
    "def child_node(problem, parent, action):\n",
    "    '''return a node that is a child of given node'''\n",
    "    new_state = problem.result(parent.state, action)\n",
    "    this_cost = parent.path_cost + problem.cost(action)\n",
    "    return Node(new_state, parent, action, this_cost)"
   ]
  },
  {
   "cell_type": "code",
   "execution_count": 13,
   "metadata": {
    "collapsed": false
   },
   "outputs": [
    {
     "name": "stdout",
     "output_type": "stream",
     "text": [
      "[('Rimnicu Vilcea', 80), ('Oradea', 151), ('Fagaras', 99), ('Arad', 140)]\n",
      "Rimnicu Vilcea\n"
     ]
    }
   ],
   "source": [
    "available_actions = this_problem.available(start_node.state)\n",
    "print available_actions\n",
    "\n",
    "first_child = child_node(this_problem, start_node, available_actions[0])\n",
    "print first_child.state"
   ]
  },
  {
   "cell_type": "code",
   "execution_count": 14,
   "metadata": {
    "collapsed": true
   },
   "outputs": [],
   "source": [
    "def breadth_first_search(problem, start_node):\n",
    "    if problem.goal_test(start_node.state):\n",
    "        return start_node\n",
    "    frontier = [start_node]\n",
    "    frontier_states = {start_node.state}\n",
    "    explored = set([])\n",
    "    while(1):\n",
    "        if len(frontier) == 0:\n",
    "            return 'FAILURE'\n",
    "        this_node = frontier.pop(0)\n",
    "        frontier_states.remove(this_node.state)\n",
    "        explored.add(this_node.state)\n",
    "        #print explored\n",
    "        for action in problem.available(this_node.state):\n",
    "            this_child = child_node(problem, this_node, action)\n",
    "            if (this_child.state not in explored) and (this_child.state not in frontier_states):\n",
    "                if problem.goal_test(this_child.state):\n",
    "                    return this_child\n",
    "                frontier.append(this_child)\n",
    "                frontier_states.add(this_child.state)"
   ]
  },
  {
   "cell_type": "code",
   "execution_count": 70,
   "metadata": {
    "collapsed": false
   },
   "outputs": [],
   "source": [
    "def uniform_cost_search(problem, start_node):\n",
    "    if problem.goal_test(start_node.state):\n",
    "        return start_node\n",
    "\n",
    "    frontier = []\n",
    "    heapq.heappush(frontier, (0, start_node))\n",
    "    \n",
    "    frontier_states = {start_node.state:start_node.path_cost}\n",
    "    explored = set([])\n",
    "    \n",
    "    while(1):\n",
    "        try:\n",
    "            this_node = heapq.heappop(frontier)[1]\n",
    "        except IndexError:\n",
    "            return 'FAILURE' #heap was empty\n",
    "                \n",
    "        del frontier_states[this_node.state]\n",
    "        if problem.goal_test(this_node.state):\n",
    "            print this_node\n",
    "            return this_node\n",
    "        explored.add(this_node.state)\n",
    "        for action in problem.available(this_node.state):\n",
    "            this_child = child_node(problem, this_node, action)\n",
    "            if (this_child.state not in explored) and (this_child.state not in frontier_states.keys()):\n",
    "                heapq.heappush(frontier, (this_child.path_cost, this_child))\n",
    "                frontier_states[this_child.state] = this_child.path_cost\n",
    "            elif (this_child.state in frontier_states.keys()):\n",
    "                if frontier_states[this_child.state] > this_child.path_cost:\n",
    "                    frontier_states[this_child.state] = this_child.path_cost\n",
    "                    heapq.heappush(frontier, (this_child.path_cost, this_child))"
   ]
  },
  {
   "cell_type": "code",
   "execution_count": 16,
   "metadata": {
    "collapsed": true
   },
   "outputs": [],
   "source": [
    "def solution(node):\n",
    "    if node == 'FAILURE':\n",
    "        print node\n",
    "    else:\n",
    "        path = []\n",
    "        this_node = node\n",
    "        while(this_node is not None):\n",
    "            path.append(this_node.state)\n",
    "            this_node = this_node.parent\n",
    "        path.reverse()\n",
    "        print path"
   ]
  },
  {
   "cell_type": "code",
   "execution_count": 17,
   "metadata": {
    "collapsed": false
   },
   "outputs": [
    {
     "name": "stdout",
     "output_type": "stream",
     "text": [
      "['Sibiu', 'Fagaras', 'Bucharest']\n"
     ]
    }
   ],
   "source": [
    "solution(breadth_first_search(this_problem, start_node))"
   ]
  },
  {
   "cell_type": "code",
   "execution_count": 18,
   "metadata": {
    "collapsed": false
   },
   "outputs": [
    {
     "name": "stdout",
     "output_type": "stream",
     "text": [
      "Sibiu\n",
      "Rimnicu Vilcea\n",
      "Fagaras\n",
      "Arad\n",
      "Oradea\n",
      "Pitesti\n",
      "Zerind\n",
      "Craiova\n",
      "Timisoara\n",
      "Bucharest\n",
      "<__main__.Node instance at 0x7f21133dda28>\n",
      "['Sibiu', 'Rimnicu Vilcea', 'Pitesti', 'Bucharest']\n"
     ]
    }
   ],
   "source": [
    "solution(uniform_cost_search(this_problem, start_node))"
   ]
  },
  {
   "cell_type": "code",
   "execution_count": 19,
   "metadata": {
    "collapsed": true
   },
   "outputs": [],
   "source": [
    "def recursive_dls(this_node, problem, limit):\n",
    "    if problem.goal_test(this_node.state):\n",
    "        return this_node\n",
    "    if limit == 0:\n",
    "        return 'CUTOFF'\n",
    "    cutoffp = False\n",
    "    for action in problem.available(this_node.state):\n",
    "        this_child = child_node(problem, this_node, action)\n",
    "        result = recursive_dls(this_child, problem, limit-1)\n",
    "        if result == 'CUTOFF':\n",
    "            cutoffp = True\n",
    "        elif result != 'FAILURE':\n",
    "            return result\n",
    "    if cutoffp:\n",
    "        return 'CUTOFF'\n",
    "    else:\n",
    "        return 'FAILURE'\n",
    "    \n",
    "def depth_limited_search(problem, limit, start_node):\n",
    "    return recursive_dls(start_node, problem, limit)"
   ]
  },
  {
   "cell_type": "code",
   "execution_count": 20,
   "metadata": {
    "collapsed": false
   },
   "outputs": [
    {
     "name": "stdout",
     "output_type": "stream",
     "text": [
      "['Sibiu', 'Rimnicu Vilcea', 'Sibiu', 'Rimnicu Vilcea', 'Sibiu', 'Rimnicu Vilcea', 'Sibiu', 'Rimnicu Vilcea', 'Pitesti', 'Bucharest']\n"
     ]
    }
   ],
   "source": [
    "solution(depth_limited_search(this_problem, 9, start_node))"
   ]
  },
  {
   "cell_type": "code",
   "execution_count": 21,
   "metadata": {
    "collapsed": true
   },
   "outputs": [],
   "source": [
    "def iterative_deepening_search(this_problem, start_node):\n",
    "    depth = 0\n",
    "    while(1):\n",
    "        result = depth_limited_search(this_problem, depth, start_node)\n",
    "        if result != 'CUTOFF':\n",
    "            return result\n",
    "        depth += 1"
   ]
  },
  {
   "cell_type": "code",
   "execution_count": 22,
   "metadata": {
    "collapsed": false
   },
   "outputs": [
    {
     "name": "stdout",
     "output_type": "stream",
     "text": [
      "['Sibiu', 'Fagaras', 'Bucharest']\n"
     ]
    }
   ],
   "source": [
    "solution(iterative_deepening_search(this_problem, start_node))"
   ]
  },
  {
   "cell_type": "markdown",
   "metadata": {
    "collapsed": true
   },
   "source": [
    "# Sliding Block Puzzle"
   ]
  },
  {
   "cell_type": "code",
   "execution_count": 48,
   "metadata": {
    "collapsed": true
   },
   "outputs": [],
   "source": [
    "#map blank index to available moves\n",
    "allowed_actions = {0:('R','D')\n",
    "                  ,1:('L','D','R')\n",
    "                  ,2:('L','D')\n",
    "                  ,3:('U','R','D')\n",
    "                  ,4:('U','R','D','L')\n",
    "                  ,5:('U','L','D')\n",
    "                  ,6:('U','R')\n",
    "                  ,7:('U','R','L')\n",
    "                  ,8:('U','L')}\n",
    "\n",
    "class SlidingBlock3(Problem):\n",
    "    def __init__(self):\n",
    "        pass\n",
    "    \n",
    "    def result(self, state, action):\n",
    "        assert action in self.available(state)\n",
    "        new_state = list(state)\n",
    "        blank_index = state.index(0)\n",
    "        if action == 'R':\n",
    "            moved_block_loc = blank_index+1\n",
    "        elif action == 'L':\n",
    "            moved_block_loc = blank_index-1\n",
    "        elif action == 'U':\n",
    "            moved_block_loc = blank_index-3\n",
    "        elif action == 'D':\n",
    "            moved_block_loc = blank_index+3\n",
    "            \n",
    "        \n",
    "        moved_block = state[moved_block_loc]\n",
    "        new_state[blank_index] = moved_block\n",
    "        new_state[moved_block_loc] = 0\n",
    "        \n",
    "        return tuple(new_state)\n",
    "    \n",
    "    def available(self, state):\n",
    "        blank_index = state.index(0)\n",
    "        return allowed_actions[blank_index]\n",
    "    \n",
    "    def cost(self, action):\n",
    "        return 1\n",
    "    \n",
    "    def goal_test(self, state):\n",
    "        return state == tuple(range(9))\n",
    "    \n",
    "def solution_sbp(node):\n",
    "    if node == 'FAILURE':\n",
    "        print node\n",
    "    else:\n",
    "        path = []\n",
    "        this_node = node\n",
    "        while(this_node is not None):\n",
    "            path.append(this_node.action)\n",
    "            this_node = this_node.parent\n",
    "        path.reverse()\n",
    "        print path[1:]"
   ]
  },
  {
   "cell_type": "code",
   "execution_count": 52,
   "metadata": {
    "collapsed": false
   },
   "outputs": [
    {
     "name": "stdout",
     "output_type": "stream",
     "text": [
      "['L']\n"
     ]
    }
   ],
   "source": [
    "start_sbp = Node((1,0,2,3,4,5,6,7,8), None, None, 0)\n",
    "\n",
    "this_sbp = SlidingBlock3()\n",
    "\n",
    "solution_sbp(iterative_deepening_search(this_sbp, start_sbp))"
   ]
  },
  {
   "cell_type": "code",
   "execution_count": 97,
   "metadata": {
    "collapsed": false
   },
   "outputs": [],
   "source": [
    "from random import choice\n",
    "\n",
    "#generate random problem instance\n",
    "def random_sbp(num_moves):\n",
    "    start = tuple(range(9))\n",
    "\n",
    "    this_state = tuple(range(9))\n",
    "    for ii in range(num_moves):\n",
    "        next_move = choice(this_sbp.available(this_state))\n",
    "        this_state = this_sbp.result(this_state, next_move)\n",
    "\n",
    "    return this_state"
   ]
  },
  {
   "cell_type": "code",
   "execution_count": 98,
   "metadata": {
    "collapsed": false
   },
   "outputs": [
    {
     "name": "stdout",
     "output_type": "stream",
     "text": [
      "['L', 'L', 'U', 'U']\n"
     ]
    }
   ],
   "source": [
    "random_sbp_node = Node(random_sbp(20), None, None, 0)\n",
    "solution_sbp(breadth_first_search(this_sbp, random_sbp_node))"
   ]
  },
  {
   "cell_type": "markdown",
   "metadata": {},
   "source": [
    "# Heuristics"
   ]
  },
  {
   "cell_type": "code",
   "execution_count": 82,
   "metadata": {
    "collapsed": false
   },
   "outputs": [],
   "source": [
    "def h_1(state):\n",
    "    '''returns the number of misplaced tiles in the nine-puzzle'''\n",
    "    matches = 0\n",
    "    for b1, b2 in zip(state, range(9)):\n",
    "        if b1 == b2 and b1!=0:\n",
    "            matches += 1\n",
    "    return (8-matches)\n",
    "\n",
    "test_h_state = tuple([7, 2, 4, 5, 0, 6, 8, 3, 1])\n",
    "assert h_1(test_h_state) == 8"
   ]
  },
  {
   "cell_type": "code",
   "execution_count": 90,
   "metadata": {
    "collapsed": false
   },
   "outputs": [],
   "source": [
    "def h_2(state):\n",
    "    '''returns sum of manhattan distances of tiles from correct place'''\n",
    "    hh = 0\n",
    "    for bb, pp in zip(state, range(9)):\n",
    "        hh += manhattan_distance(bb, pp)\n",
    "    return hh\n",
    "\n",
    "def manhattan_distance(bb, pp):\n",
    "    if bb == 0:\n",
    "        return 0\n",
    "    md = abs(bb % 3- pp%3) + abs(bb/3 - pp/3)\n",
    "    return md\n",
    "\n",
    "assert h_2(test_h_state)  == 18"
   ]
  },
  {
   "cell_type": "code",
   "execution_count": 95,
   "metadata": {
    "collapsed": true
   },
   "outputs": [],
   "source": [
    "def a_star_search(problem, start_node):\n",
    "    if problem.goal_test(start_node.state):\n",
    "        return start_node\n",
    "\n",
    "    frontier = []\n",
    "    heapq.heappush(frontier, (0, start_node))\n",
    "    \n",
    "    eval_cost = start_node.path_cost + h_2(start_node.state)\n",
    "    \n",
    "    frontier_states = {start_node.state:eval_cost}\n",
    "    explored = set([])\n",
    "    \n",
    "    while(1):\n",
    "        try:\n",
    "            this_node = heapq.heappop(frontier)[1]\n",
    "        except IndexError:\n",
    "            return 'FAILURE' #heap was empty\n",
    "                \n",
    "        del frontier_states[this_node.state]\n",
    "        if problem.goal_test(this_node.state):\n",
    "            print this_node\n",
    "            return this_node\n",
    "        explored.add(this_node.state)\n",
    "        for action in problem.available(this_node.state):\n",
    "            this_child = child_node(problem, this_node, action)\n",
    "            eval_cost = this_child.path_cost + h_2(this_child.state)\n",
    "            if (this_child.state not in explored) and (this_child.state not in frontier_states.keys()):\n",
    "                heapq.heappush(frontier, (eval_cost, this_child))\n",
    "                frontier_states[this_child.state] = eval_cost\n",
    "            elif (this_child.state in frontier_states.keys()):\n",
    "                if frontier_states[this_child.state] > eval_cost:\n",
    "                    frontier_states[this_child.state] = eval_cost\n",
    "                    heapq.heappush(frontier, (eval_cost, this_child))"
   ]
  },
  {
   "cell_type": "code",
   "execution_count": 109,
   "metadata": {
    "collapsed": false
   },
   "outputs": [
    {
     "name": "stdout",
     "output_type": "stream",
     "text": [
      "<__main__.Node instance at 0x7f21095554d0>\n",
      "['U', 'R', 'D', 'L', 'D', 'R', 'U', 'U', 'L', 'D', 'R', 'D', 'L', 'U', 'L', 'U']\n"
     ]
    }
   ],
   "source": [
    "random_sbp_node = Node(random_sbp(100), None, None, 0)\n",
    "solution_sbp(a_star_search(this_sbp, random_sbp_node))"
   ]
  },
  {
   "cell_type": "code",
   "execution_count": null,
   "metadata": {
    "collapsed": true
   },
   "outputs": [],
   "source": []
  },
  {
   "cell_type": "code",
   "execution_count": null,
   "metadata": {
    "collapsed": true
   },
   "outputs": [],
   "source": []
  }
 ],
 "metadata": {
  "kernelspec": {
   "display_name": "Python 2",
   "language": "python",
   "name": "python2"
  },
  "language_info": {
   "codemirror_mode": {
    "name": "ipython",
    "version": 2
   },
   "file_extension": ".py",
   "mimetype": "text/x-python",
   "name": "python",
   "nbconvert_exporter": "python",
   "pygments_lexer": "ipython2",
   "version": "2.7.6"
  }
 },
 "nbformat": 4,
 "nbformat_minor": 0
}
