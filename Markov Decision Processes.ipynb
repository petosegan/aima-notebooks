{
 "cells": [
  {
   "cell_type": "markdown",
   "metadata": {},
   "source": [
    "# Goal of this notebook: Calculate results pertaining to MDPs"
   ]
  },
  {
   "cell_type": "raw",
   "metadata": {},
   "source": [
    "%install_ext https://raw.github.com/tkf/ipython-hierarchymagic/master/hierarchymagic.py\n",
    "%load_ext hierarchymagic"
   ]
  },
  {
   "cell_type": "code",
   "execution_count": 1,
   "metadata": {
    "collapsed": true
   },
   "outputs": [],
   "source": [
    "%matplotlib inline"
   ]
  },
  {
   "cell_type": "code",
   "execution_count": 2,
   "metadata": {
    "collapsed": false
   },
   "outputs": [],
   "source": [
    "from IPython.display import clear_output\n",
    "import numpy as np\n",
    "import matplotlib.pyplot as plt\n",
    "import matplotlib.cm as cm\n",
    "import matplotlib.ticker as plticker\n",
    "import networkx as nx\n",
    "import random"
   ]
  },
  {
   "cell_type": "code",
   "execution_count": 3,
   "metadata": {
    "collapsed": false
   },
   "outputs": [],
   "source": [
    "class MDP():\n",
    "    '''Representation of a Markov Decision Process\n",
    "    An MDP is defined by:\n",
    "    states: a collection of nodes, with edges connecting only to actions, associated with rewards\n",
    "    actions: a collection of nodes, with edges connecting only to states,\n",
    "        weighted by probability of results'''\n",
    "    def __init__(self, states, discount=0.5):\n",
    "        self.states = set(states)\n",
    "        self.utilities = {s:s.reward for s in self.states}\n",
    "        self.discount = discount\n",
    "        \n",
    "    @property\n",
    "    def graph(self):\n",
    "        g = nx.DiGraph()\n",
    "        for state in self.states:\n",
    "            g.add_node(state, color='blue')\n",
    "        for state in self.states:\n",
    "            for action in state.actions:\n",
    "                g.add_node(action, color='red')\n",
    "                for tt in action.transitions:\n",
    "                    g.add_edge(action, tt.result)\n",
    "        return g\n",
    "    \n",
    "    def update_utilities(self):\n",
    "        new_utilities = {}\n",
    "        for state in self.states:\n",
    "            if not state.terminal_p:\n",
    "                action_values = []\n",
    "                for action in state.actions:\n",
    "                    action_value = 0\n",
    "                    for tt in action.transitions:\n",
    "                        if not tt.result.terminal_p:\n",
    "                            transition_value = tt.weight * (tt.result.reward + self.utilities[tt.result])\n",
    "                        else:\n",
    "                            transition_value = tt.weight * (self.utilities[tt.result])\n",
    "                        action_value += transition_value\n",
    "                    action_values.append(action_value)\n",
    "                new_utilities[state] = max(action_values)\n",
    "            else:\n",
    "                new_utilities[state] = self.utilities[state]\n",
    "        self.utilities = new_utilities\n",
    "        \n",
    "    def view_graph(self):\n",
    "        labels = {}\n",
    "        grid_graph = self.graph\n",
    "        pos=nx.graphviz_layout(grid_graph)\n",
    "\n",
    "        for state in self.states:\n",
    "            labels[state] = state.name\n",
    "            for action in state.actions:\n",
    "                nx.draw_networkx_nodes(grid_graph, pos, nodelist=[action], node_color='r')\n",
    "                nx.draw_networkx_edges(grid_graph, pos, edgelist=[(state, action)], width=1, color='r')\n",
    "                for tt in action.transitions:\n",
    "                    nx.draw_networkx_edges(grid_graph, pos, edgelist=[(action, tt.result)], width=3*tt.weight)\n",
    "\n",
    "        nx.draw_networkx_nodes(grid_graph, pos, nodelist=self.states, node_color='b', node_size=1000)\n",
    "\n",
    "        nx.draw_networkx_labels(grid_graph, pos, labels, font_size=10, font_color='white', font_weight='bold')\n",
    "\n",
    "        fig = plt.gcf()\n",
    "        fig.set_size_inches(20,10)\n",
    "        \n",
    "class Action():\n",
    "    def __init__(self, name, transitions):\n",
    "        self.name = name\n",
    "        self.transitions = set(transitions)\n",
    "        \n",
    "    def check_unitarity(self):\n",
    "        assert sum([tt.weight for tt in transitions]) == 1.0\n",
    "        \n",
    "class Transition():\n",
    "    def __init__(self, weight, result):\n",
    "        self.weight = weight\n",
    "        self.result = result\n",
    "        \n",
    "class State():\n",
    "    def __init__(self, name, actions, reward, terminal_p):\n",
    "        self.name = name\n",
    "        self.actions = actions\n",
    "        self.reward = reward\n",
    "        self.terminal_p = terminal_p"
   ]
  },
  {
   "cell_type": "code",
   "execution_count": 4,
   "metadata": {
    "collapsed": true
   },
   "outputs": [],
   "source": [
    "class Square():\n",
    "    def __init__(self, coords, reward, terminal_p):\n",
    "        self.coords = coords\n",
    "        self.reward = reward\n",
    "        self.terminal_p = terminal_p"
   ]
  },
  {
   "cell_type": "code",
   "execution_count": 5,
   "metadata": {
    "collapsed": false
   },
   "outputs": [],
   "source": [
    "class Grid():\n",
    "    def __init__(self, size, reward_default, gaps=[], terminals={}):\n",
    "        self.size = size # pair of integers\n",
    "        self.gaps = set(gaps) # list of pairs of integers\n",
    "        self.terminals = terminals #dict, keys are pairs of integers and values are rewards\n",
    "        self.reward_default = reward_default\n",
    "        \n",
    "        exes = range(1,size[0]+1)\n",
    "        wyes = range(1,size[1]+1)\n",
    "        \n",
    "        coords = {(xx, yy) for xx in exes for yy in wyes}\n",
    "        coords = coords - self.gaps\n",
    "        self.squares = []\n",
    "        for cc in coords:\n",
    "            if cc in terminals:\n",
    "                this_reward = terminals[cc]\n",
    "                this_terminal_p = True\n",
    "            else:\n",
    "                this_reward = reward_default\n",
    "                this_terminal_p = False\n",
    "            this_square = Square(cc, this_reward, this_terminal_p)\n",
    "            self.squares.append(this_square)\n",
    "            \n",
    "    def isBoundary(self, coords):\n",
    "        if coords[0] == 0 or coords[1] == 0:\n",
    "            return True\n",
    "        elif coords[0] == self.size[0]+1 or coords[1] == self.size[1]+1:\n",
    "            return True\n",
    "        else:\n",
    "            return False\n",
    "        \n",
    "    def view(self):\n",
    "        xmax = self.size[0]+2\n",
    "        ymax = self.size[1]+2\n",
    "        \n",
    "        rewards = [sq.reward for sq in self.squares]\n",
    "        image = np.ones((ymax, xmax))*(min(rewards)-1)\n",
    "        \n",
    "        fig=plt.figure(figsize=(xmax, ymax))\n",
    "        ax=fig.add_subplot(111)\n",
    "        fig.subplots_adjust(left=0,right=1,bottom=0,top=1)\n",
    "        # Set the gridding interval: here we use the major tick interval\n",
    "        myInterval=1.0\n",
    "        loc = plticker.MultipleLocator(base=myInterval)\n",
    "        ax.xaxis.set_major_locator(loc)\n",
    "        ax.yaxis.set_major_locator(loc)\n",
    "\n",
    "        # Add the grid\n",
    "        ax.grid(which='major', axis='both', linestyle='-')\n",
    "        \n",
    "        for sq in self.squares:\n",
    "            xx, yy = sq.coords\n",
    "\n",
    "            image[yy, xx] = sq.reward\n",
    "            y=myInterval/2+yy*myInterval\n",
    "            x=myInterval/2.+xx*myInterval\n",
    "            ax.text(x,y,'%d,%d\\n%2.2f'%(xx, yy, sq.reward),color='black',ha='center',va='center')\n",
    "\n",
    "        # Add the image\n",
    "\n",
    "        ax.imshow(np.flipud(image), interpolation='none', cmap=cm.RdBu, extent=[0, xmax, 0, ymax], vmin=min(rewards)-1, vmax=max(rewards)+1)\n",
    "        ax.get_xaxis().set_ticklabels([])\n",
    "        ax.get_yaxis().set_ticklabels([])"
   ]
  },
  {
   "cell_type": "markdown",
   "metadata": {},
   "source": [
    "##testing "
   ]
  },
  {
   "cell_type": "code",
   "execution_count": 6,
   "metadata": {
    "collapsed": false
   },
   "outputs": [],
   "source": [
    "gg = Grid((4, 3), -.05, gaps=[(2, 2)], terminals={(4, 3):1, (4, 2):-1})"
   ]
  },
  {
   "cell_type": "raw",
   "metadata": {},
   "source": [
    "for sq in gg.squares:\n",
    "    if not sq.wall_p:\n",
    "        print sq.coords\n",
    "        \n",
    "print len(gg.squares)"
   ]
  },
  {
   "cell_type": "code",
   "execution_count": 7,
   "metadata": {
    "collapsed": false,
    "scrolled": true
   },
   "outputs": [
    {
     "data": {
      "image/png": "[encoded data removed]",
      "text/plain": [
       "<matplotlib.figure.Figure at 0x7feb6f9e8910>"
      ]
     },
     "metadata": {},
     "output_type": "display_data"
    }
   ],
   "source": [
    "gg.view()"
   ]
  },
  {
   "cell_type": "markdown",
   "metadata": {},
   "source": [
    "##convert Grid into MDP "
   ]
  },
  {
   "cell_type": "code",
   "execution_count": 8,
   "metadata": {
    "collapsed": false
   },
   "outputs": [],
   "source": [
    "def square2blankstate(sq):\n",
    "    name = \"%d, %d\"%sq.coords\n",
    "    actions = []\n",
    "    reward = sq.reward\n",
    "    terminal_p = sq.terminal_p\n",
    "    return State(name, actions, reward, terminal_p)\n",
    "\n",
    "def adjacent(sq_pair):\n",
    "    sq1, sq2 = sq_pair\n",
    "    x1, y1 = sq1.coords\n",
    "    x2, y2 = sq2.coords\n",
    "    \n",
    "    if x1==x2 and y1==y2:\n",
    "        return False\n",
    "    \n",
    "    if abs(x1 - x2) <= 1  and y1==y2:\n",
    "        return True\n",
    "    \n",
    "    if abs(y1-y2) <= 1 and x1==x2:\n",
    "        return True\n",
    "    \n",
    "    return False\n",
    "    \n",
    "def get_neighbors(sq, grid):\n",
    "    neighbors = filter(lambda ss: adjacent((ss, sq)), grid.squares)\n",
    "    return neighbors\n",
    "            \n",
    "#for each neighbor, check if left turn and right turn neighbors exist, and create transitions appropriately\n",
    "#use transitions to build the action 'attempt to move to neighbor'\n",
    "#and then build the state"
   ]
  },
  {
   "cell_type": "raw",
   "metadata": {},
   "source": [
    "set of squares\n",
    "for each square get a list of neighbor pairs of squares (mapping)\n",
    "for each neighbor pair get a target, right hand and left hand destination (mapping)\n",
    "for each destination make a transition tuple (weight, target, result) (mapping)\n",
    "for each pair make an action tuple (name, [transition tuples]) (mapping)\n",
    "\n",
    "construct blank states from list of squares\n",
    "replace pairs of squares with pairs of states\n",
    "construct blank actions from list of pairs\n",
    "replace target and result squares in transition tuples with target and result states\n",
    "add transitions to blank actions\n",
    "add actions to blank states"
   ]
  },
  {
   "cell_type": "code",
   "execution_count": 9,
   "metadata": {
    "collapsed": false
   },
   "outputs": [],
   "source": [
    "left_turn = {(1, 0):(0, 1),\n",
    "          (0, 1):(-1,0),\n",
    "          (-1,0):(0,-1),\n",
    "          (0,-1):(1,0)}\n",
    "\n",
    "right_turn = {(1,0):(0,-1),\n",
    "             (0,-1):(-1,0),\n",
    "             (-1,0):(0,1),\n",
    "             (0,1):(1,0)}\n",
    "\n",
    "\n",
    "PP_LHT_ERROR = 0.1\n",
    "PP_RHT_ERROR = 0.1\n",
    "PP_SUCCESS = 1 - PP_LHT_ERROR - PP_RHT_ERROR\n",
    "\n",
    "#allpairs = [(sq1, sq2) for sq1 in gg.squares for sq2 in gg.squares]\n",
    "#neighbor_pairs = filter(adjacent, allpairs)\n",
    "\n",
    "def get_destinations(pair, grid):\n",
    "    '''given a pair of squares (start) and (destination), construct a tuple\n",
    "    (destination, righthand, lefthand) of squares'''\n",
    "    \n",
    "    start, destination = pair\n",
    "    \n",
    "    start_nbrs = get_neighbors(start, grid)\n",
    "    try:\n",
    "        assert destination in start_nbrs\n",
    "    except AssertionError:\n",
    "        print 'Start'\n",
    "        print start.coords\n",
    "        print 'Start Neighbors:'\n",
    "        for sq in start_nbrs:\n",
    "            print sq.coords\n",
    "        print 'Dest:'\n",
    "        print destination.coords\n",
    "        raise AssertionError\n",
    "    \n",
    "    x_start, y_start = start.coords\n",
    "    x_dest, y_dest = destination.coords\n",
    "    \n",
    "    motion_vector = (x_dest - x_start, y_dest - y_start)\n",
    "    x_rht, y_rht = right_turn[motion_vector]\n",
    "    x_lht, y_lht = left_turn[motion_vector]\n",
    "    \n",
    "    rht_coords = (x_rht+x_start, y_rht+y_start)\n",
    "    lht_coords = (x_lht+x_start, y_lht+y_start)\n",
    "    \n",
    "    try:\n",
    "        rht_result = filter(lambda sq: sq.coords==rht_coords, start_nbrs)[0]\n",
    "    except IndexError:\n",
    "        rht_result = None\n",
    "        \n",
    "    try:\n",
    "        lht_result = filter(lambda sq: sq.coords==lht_coords, start_nbrs)[0]\n",
    "    except IndexError:\n",
    "        lht_result = None\n",
    "    \n",
    "    return (destination, rht_result, lht_result)\n",
    "\n",
    "#dests = {pair : get_destinations(pair) for pair in neighbor_pairs}\n",
    "\n",
    "def get_transition_tuples(start, destinations):\n",
    "    target, righthand, lefthand = destinations\n",
    "    if righthand is None:\n",
    "        righthand = start\n",
    "    if lefthand is None:\n",
    "        lefthand = start\n",
    "        \n",
    "    target_tuple = (PP_SUCCESS, target)\n",
    "    rht_tuple = (PP_RHT_ERROR, righthand)\n",
    "    lht_tuple = (PP_LHT_ERROR, lefthand)\n",
    "    \n",
    "    return (target_tuple, rht_tuple, lht_tuple)\n",
    "\n",
    "#transitions = {pair:get_transition_tuples(pair[0], dests[pair]) for pair in neighbor_pairs}\n",
    "\n",
    "\n",
    "def get_action_name(pair):\n",
    "    start, dest = pair\n",
    "    name = \"%s to %s\"%(start.coords, dest.coords)\n",
    "    return name\n",
    "\n",
    "#actions = {pair:get_action_name(pair) for pair in neighbor_pairs}"
   ]
  },
  {
   "cell_type": "markdown",
   "metadata": {},
   "source": [
    "##Construct MDP Agent "
   ]
  },
  {
   "cell_type": "code",
   "execution_count": 10,
   "metadata": {
    "collapsed": false
   },
   "outputs": [],
   "source": [
    "def argmax(iterable):\n",
    "    return max(enumerate(iterable), key=lambda x: x[1])[0]\n",
    "\n",
    "class MDP_Agent():\n",
    "    def __init__(self, mdp, initial_state):\n",
    "        self.problem = mdp\n",
    "        self.state = initial_state\n",
    "        self.trove = self.state.reward #accumulated reward\n",
    "        \n",
    "        self.policy = self.random_policy\n",
    "        \n",
    "        self.done=False\n",
    "        \n",
    "        self.think_steps = 50\n",
    "\n",
    "        \n",
    "    def take_step(self):\n",
    "        if not self.done:\n",
    "            next_action = self.policy()\n",
    "            possible_results = [tt.result for tt in next_action.transitions]\n",
    "            probs = [tt.weight for tt in next_action.transitions]\n",
    "            result = np.random.choice(possible_results, p=probs)\n",
    "            self.state = result\n",
    "            self.trove += result.reward\n",
    "            if self.state.terminal_p:\n",
    "                self.done=True\n",
    "                \n",
    "    def consider_problem(self):\n",
    "        for ii in range(self.think_steps):\n",
    "            self.problem.update_utilities()\n",
    "            \n",
    "    def optimal_policy(self):\n",
    "        available_actions = self.state.actions\n",
    "        action_values = []\n",
    "        for action in available_actions:\n",
    "            action_value = 0\n",
    "            for tt in action.transitions:\n",
    "                transition_value = tt.weight * self.problem.utilities[tt.result]\n",
    "                action_value += transition_value\n",
    "            action_values.append(action_value)\n",
    "        return available_actions[argmax(action_values)]\n",
    "        \n",
    "        \n",
    "    \n",
    "    def random_policy(self):\n",
    "        action = random.choice(self.state.actions)\n",
    "        return action\n",
    "        \n",
    "    def report(self):\n",
    "        print 'State is %s'%self.state.name\n",
    "        print 'Accumulated reward is %f'%self.trove\n",
    "        print '-'*10\n",
    "            \n",
    "    def run(self, max_steps = 20):\n",
    "        nsteps = 0\n",
    "        while not self.done and nsteps < max_steps:\n",
    "            nsteps+=1\n",
    "            print 'Step #%d'%nsteps\n",
    "            self.take_step()\n",
    "            self.report()\n",
    "        if self.done:\n",
    "            print 'Done'"
   ]
  },
  {
   "cell_type": "markdown",
   "metadata": {},
   "source": [
    "##Visualize value iteration "
   ]
  },
  {
   "cell_type": "code",
   "execution_count": 11,
   "metadata": {
    "collapsed": false
   },
   "outputs": [],
   "source": [
    "class GridMDP(MDP):\n",
    "    def __init__(self, gg, discount=0.5):\n",
    "        self.grid = gg\n",
    "        \n",
    "        allpairs = [(sq1, sq2) for sq1 in gg.squares for sq2 in gg.squares]\n",
    "        neighbor_pairs = filter(adjacent, allpairs)\n",
    "        neighbor_pairs = filter(lambda pair: not pair[0].terminal_p, neighbor_pairs)\n",
    "        dests = {pair : get_destinations(pair, gg) for pair in neighbor_pairs}\n",
    "        transitions = {pair:get_transition_tuples(pair[0], dests[pair]) for pair in neighbor_pairs}\n",
    "        actions = {pair:get_action_name(pair) for pair in neighbor_pairs}\n",
    "        \n",
    "        sqs2states = {sq:square2blankstate(sq) for sq in gg.squares}\n",
    "        self.sqs2states = sqs2states\n",
    "        pairs2transitions = {pair:[Transition(tt[0], sqs2states[tt[1]]) for tt in transitions[pair]] for pair in neighbor_pairs}\n",
    "        pairs2actions = {pair:Action(actions[pair], pairs2transitions[pair]) for pair in neighbor_pairs}\n",
    "        \n",
    "        non_terminal_sqs = filter(lambda sq: not sq.terminal_p, gg.squares)\n",
    "        \n",
    "        sqs2pairs = {sq:[(sq, nbr) for nbr in get_neighbors(sq, gg)] for sq in non_terminal_sqs}\n",
    "        sqs2actions = {sq:[pairs2actions[pp] for pp in sqs2pairs[sq]] for sq in non_terminal_sqs}\n",
    "        states2actions = {sqs2states[sq]:sqs2actions[sq] for sq in non_terminal_sqs}\n",
    "\n",
    "        for state, actionlist in states2actions.items():\n",
    "            state.actions = actionlist\n",
    "            \n",
    "        self.states = sqs2states.values()\n",
    "        \n",
    "        self.utilities = {s:s.reward for s in self.states}\n",
    "        self.discount = discount\n",
    "        \n",
    "    @property\n",
    "    def start_state(self):\n",
    "        return self.sqs2states[self.grid.squares[0]]\n",
    "        \n",
    "    def view(self):\n",
    "        xmax = self.grid.size[0]+2\n",
    "        ymax = self.grid.size[1]+2\n",
    "        \n",
    "        rewards = [self.utilities[self.sqs2states[sq]] for sq in self.grid.squares]\n",
    "        image = np.ones((ymax, xmax))*(min(rewards)-1)\n",
    "        \n",
    "        fig=plt.figure(figsize=(xmax, ymax))\n",
    "        ax=fig.add_subplot(111)\n",
    "        fig.subplots_adjust(left=0,right=1,bottom=0,top=1)\n",
    "        # Set the gridding interval: here we use the major tick interval\n",
    "        myInterval=1.0\n",
    "        loc = plticker.MultipleLocator(base=myInterval)\n",
    "        ax.xaxis.set_major_locator(loc)\n",
    "        ax.yaxis.set_major_locator(loc)\n",
    "\n",
    "        # Add the grid\n",
    "        ax.grid(which='major', axis='both', linestyle='-')\n",
    "        \n",
    "        for sq in self.grid.squares:\n",
    "            xx, yy = sq.coords\n",
    "\n",
    "            image[yy, xx] = self.utilities[self.sqs2states[sq]]\n",
    "            y=myInterval/2+yy*myInterval\n",
    "            x=myInterval/2.+xx*myInterval\n",
    "            ax.text(x,y,'%d,%d\\n%2.2f'%(xx, yy, self.utilities[self.sqs2states[sq]]),color='black',ha='center',va='center')\n",
    "\n",
    "        # Add the image\n",
    "\n",
    "        ax.imshow(np.flipud(image), interpolation='none', cmap=cm.RdBu, extent=[0, xmax, 0, ymax], vmin=min(rewards)-1, vmax=max(rewards)+1)\n",
    "        ax.get_xaxis().set_ticklabels([])\n",
    "        ax.get_yaxis().set_ticklabels([])"
   ]
  },
  {
   "cell_type": "code",
   "execution_count": 12,
   "metadata": {
    "collapsed": false
   },
   "outputs": [],
   "source": [
    "gg2 = Grid((4, 4), -.05, gaps=[(2, 2)], terminals={(4, 3):1, (4, 2):-1})\n",
    "\n",
    "ggmdp = GridMDP(gg2)"
   ]
  },
  {
   "cell_type": "code",
   "execution_count": 13,
   "metadata": {
    "collapsed": false
   },
   "outputs": [
    {
     "data": {
      "image/png": "[encoded data removed]",
      "text/plain": [
       "<matplotlib.figure.Figure at 0x7feb6f8abc50>"
      ]
     },
     "metadata": {},
     "output_type": "display_data"
    }
   ],
   "source": [
    "ggmdp.view()"
   ]
  },
  {
   "cell_type": "code",
   "execution_count": 14,
   "metadata": {
    "collapsed": false
   },
   "outputs": [
    {
     "data": {
      "image/png": "[encoded data removed]",
      "text/plain": [
       "<matplotlib.figure.Figure at 0x7feb6da946d0>"
      ]
     },
     "metadata": {},
     "output_type": "display_data"
    }
   ],
   "source": [
    "ggmdp.view_graph()"
   ]
  },
  {
   "cell_type": "code",
   "execution_count": 15,
   "metadata": {
    "collapsed": false
   },
   "outputs": [
    {
     "data": {
      "image/png": "[encoded data removed]",
      "text/plain": [
       "<matplotlib.figure.Figure at 0x7feb6f778f50>"
      ]
     },
     "metadata": {},
     "output_type": "display_data"
    }
   ],
   "source": [
    "ggmdp.update_utilities()\n",
    "#for state in ggmdp.states:\n",
    "#    print state.name\n",
    "#    print ggmdp.utilities[state]\n",
    "ggmdp.view()"
   ]
  },
  {
   "cell_type": "markdown",
   "metadata": {},
   "source": [
    "##Try Agent "
   ]
  },
  {
   "cell_type": "code",
   "execution_count": 16,
   "metadata": {
    "collapsed": false
   },
   "outputs": [],
   "source": [
    "this_agent = MDP_Agent(ggmdp, ggmdp.start_state)"
   ]
  },
  {
   "cell_type": "code",
   "execution_count": 17,
   "metadata": {
    "collapsed": false
   },
   "outputs": [
    {
     "name": "stdout",
     "output_type": "stream",
     "text": [
      "State is 1, 2\n",
      "Accumulated reward is -0.050000\n",
      "----------\n"
     ]
    }
   ],
   "source": [
    "this_agent.report()"
   ]
  },
  {
   "cell_type": "code",
   "execution_count": 18,
   "metadata": {
    "collapsed": false
   },
   "outputs": [
    {
     "name": "stdout",
     "output_type": "stream",
     "text": [
      "State is 1, 3\n",
      "Accumulated reward is -0.100000\n",
      "----------\n"
     ]
    }
   ],
   "source": [
    "this_agent.take_step()\n",
    "this_agent.report()"
   ]
  },
  {
   "cell_type": "code",
   "execution_count": 19,
   "metadata": {
    "collapsed": false
   },
   "outputs": [
    {
     "name": "stdout",
     "output_type": "stream",
     "text": [
      "Step #1\n",
      "State is 2, 3\n",
      "Accumulated reward is -0.150000\n",
      "----------\n",
      "Step #2\n",
      "State is 3, 3\n",
      "Accumulated reward is -0.200000\n",
      "----------\n",
      "Step #3\n",
      "State is 3, 2\n",
      "Accumulated reward is -0.250000\n",
      "----------\n",
      "Step #4\n",
      "State is 3, 2\n",
      "Accumulated reward is -0.300000\n",
      "----------\n",
      "Step #5\n",
      "State is 4, 2\n",
      "Accumulated reward is -1.300000\n",
      "----------\n",
      "Done\n"
     ]
    }
   ],
   "source": [
    "this_agent.run()"
   ]
  },
  {
   "cell_type": "code",
   "execution_count": 20,
   "metadata": {
    "collapsed": false
   },
   "outputs": [],
   "source": [
    "this_agent = MDP_Agent(ggmdp, ggmdp.start_state)\n",
    "this_agent.policy = this_agent.optimal_policy\n",
    "this_agent.consider_problem()"
   ]
  },
  {
   "cell_type": "code",
   "execution_count": 21,
   "metadata": {
    "collapsed": false
   },
   "outputs": [
    {
     "name": "stdout",
     "output_type": "stream",
     "text": [
      "Step #1\n",
      "State is 1, 3\n",
      "Accumulated reward is -0.100000\n",
      "----------\n",
      "Step #2\n",
      "State is 2, 3\n",
      "Accumulated reward is -0.150000\n",
      "----------\n",
      "Step #3\n",
      "State is 2, 4\n",
      "Accumulated reward is -0.200000\n",
      "----------\n",
      "Step #4\n",
      "State is 3, 4\n",
      "Accumulated reward is -0.250000\n",
      "----------\n",
      "Step #5\n",
      "State is 3, 3\n",
      "Accumulated reward is -0.300000\n",
      "----------\n",
      "Step #6\n",
      "State is 4, 3\n",
      "Accumulated reward is 0.700000\n",
      "----------\n",
      "Done\n"
     ]
    }
   ],
   "source": [
    "this_agent.run()"
   ]
  },
  {
   "cell_type": "code",
   "execution_count": 22,
   "metadata": {
    "collapsed": false
   },
   "outputs": [],
   "source": [
    "optimal_results = []\n",
    "\n",
    "for ii in range(1000):\n",
    "    this_agent = MDP_Agent(ggmdp, ggmdp.start_state)\n",
    "    this_agent.policy = this_agent.optimal_policy\n",
    "    this_agent.consider_problem()\n",
    "    this_agent.run()\n",
    "    optimal_results.append(this_agent.trove)\n",
    "    clear_output()"
   ]
  },
  {
   "cell_type": "code",
   "execution_count": 23,
   "metadata": {
    "collapsed": false
   },
   "outputs": [
    {
     "name": "stdout",
     "output_type": "stream",
     "text": [
      "0.70315\n",
      "0.203377917926\n"
     ]
    }
   ],
   "source": [
    "#print optimal_results\n",
    "print np.mean(optimal_results)\n",
    "print np.std(optimal_results)"
   ]
  },
  {
   "cell_type": "code",
   "execution_count": 24,
   "metadata": {
    "collapsed": false
   },
   "outputs": [],
   "source": [
    "random_results = []\n",
    "\n",
    "for ii in range(1000):\n",
    "    this_agent = MDP_Agent(ggmdp, ggmdp.start_state)\n",
    "    this_agent.policy = this_agent.random_policy\n",
    "    this_agent.consider_problem()\n",
    "    this_agent.run()\n",
    "    random_results.append(this_agent.trove)\n",
    "    clear_output()"
   ]
  },
  {
   "cell_type": "code",
   "execution_count": 25,
   "metadata": {
    "collapsed": false
   },
   "outputs": [
    {
     "name": "stdout",
     "output_type": "stream",
     "text": [
      "-0.843\n",
      "0.76690351414\n"
     ]
    }
   ],
   "source": [
    "#print random_results\n",
    "print np.mean(random_results)\n",
    "print np.std(random_results)"
   ]
  },
  {
   "cell_type": "code",
   "execution_count": 26,
   "metadata": {
    "collapsed": false
   },
   "outputs": [
    {
     "data": {
      "text/plain": [
       "<matplotlib.text.Text at 0x7feb6d5c01d0>"
      ]
     },
     "execution_count": 26,
     "metadata": {},
     "output_type": "execute_result"
    },
    {
     "data": {
      "image/png": "[encoded data removed]",
      "text/plain": [
       "<matplotlib.figure.Figure at 0x7feb6f9e1490>"
      ]
     },
     "metadata": {},
     "output_type": "display_data"
    }
   ],
   "source": [
    "plt.figure(figsize=(10,10))\n",
    "plt.hist(optimal_results, 30, label='Optimal Policy', alpha=0.5)\n",
    "plt.hist(random_results, 30, label='Random Policy', alpha=0.5)\n",
    "plt.legend(loc='upper center')\n",
    "plt.xlabel('Reward')\n",
    "plt.ylabel('Counts')"
   ]
  },
  {
   "cell_type": "markdown",
   "metadata": {},
   "source": [
    "## this appears to work"
   ]
  }
 ],
 "metadata": {
  "kernelspec": {
   "display_name": "Python 2",
   "language": "python",
   "name": "python2"
  },
  "language_info": {
   "codemirror_mode": {
    "name": "ipython",
    "version": 2
   },
   "file_extension": ".py",
   "mimetype": "text/x-python",
   "name": "python",
   "nbconvert_exporter": "python",
   "pygments_lexer": "ipython2",
   "version": "2.7.6"
  }
 },
 "nbformat": 4,
 "nbformat_minor": 0
}
