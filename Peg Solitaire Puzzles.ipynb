{
 "cells": [
  {
   "cell_type": "markdown",
   "metadata": {},
   "source": [
    "Goal of this Notebook: Use graph search algorithms to solve Peg Solitaire: https://en.wikipedia.org/wiki/Peg_solitaire"
   ]
  },
  {
   "cell_type": "code",
   "execution_count": 165,
   "metadata": {
    "collapsed": true
   },
   "outputs": [],
   "source": [
    "%matplotlib inline\n",
    "\n",
    "from IPython.display import clear_output\n",
    "import numpy as np\n",
    "import matplotlib.pyplot as plt\n",
    "import matplotlib.cm as cm\n",
    "import matplotlib.ticker as plticker\n",
    "import networkx as nx\n",
    "import random\n",
    "from collections import namedtuple\n",
    "import heapq"
   ]
  },
  {
   "cell_type": "code",
   "execution_count": 166,
   "metadata": {
    "collapsed": true
   },
   "outputs": [],
   "source": [
    "class Problem():\n",
    "    def __init__(self, problem_mapping):\n",
    "        self._problem = problem_mapping\n",
    "        self.states = self._problem.keys()\n",
    "    \n",
    "    def result(self, state, action):\n",
    "        abstract\n",
    "        \n",
    "    def cost(self, action):\n",
    "        abstract\n",
    "        \n",
    "    def available(self, state):\n",
    "        assert state in self._problem\n",
    "        return self._problem[state]\n",
    "    \n",
    "    def goal_test(self, state):\n",
    "        abstract"
   ]
  },
  {
   "cell_type": "code",
   "execution_count": 167,
   "metadata": {
    "collapsed": true
   },
   "outputs": [],
   "source": [
    "class Node():\n",
    "    def __init__(self, state, parent, action, path_cost):\n",
    "        self.state = state\n",
    "        self.parent = parent\n",
    "        self.action = action\n",
    "        self.path_cost = path_cost"
   ]
  },
  {
   "cell_type": "code",
   "execution_count": 168,
   "metadata": {
    "collapsed": true
   },
   "outputs": [],
   "source": [
    "def child_node(problem, parent, action):\n",
    "    '''return a node that is a child of given node'''\n",
    "    new_state = problem.result(parent.state, action)\n",
    "    this_cost = parent.path_cost + problem.cost(action)\n",
    "    return Node(new_state, parent, action, this_cost)"
   ]
  },
  {
   "cell_type": "code",
   "execution_count": 169,
   "metadata": {
    "collapsed": true
   },
   "outputs": [],
   "source": [
    "def breadth_first_search(problem, start_node):\n",
    "    if problem.goal_test(start_node.state):\n",
    "        return start_node\n",
    "    frontier = [start_node]\n",
    "    frontier_states = {start_node.state}\n",
    "    explored = set([])\n",
    "    while(1):\n",
    "        if len(frontier) == 0:\n",
    "            return 'FAILURE'\n",
    "        this_node = frontier.pop(0)\n",
    "        frontier_states.remove(this_node.state)\n",
    "        explored.add(this_node.state)\n",
    "        #print explored\n",
    "        for action in problem.available(this_node.state):\n",
    "            this_child = child_node(problem, this_node, action)\n",
    "            if (this_child.state not in explored) and (this_child.state not in frontier_states):\n",
    "                if problem.goal_test(this_child.state):\n",
    "                    return this_child\n",
    "                frontier.append(this_child)\n",
    "                frontier_states.add(this_child.state)"
   ]
  },
  {
   "cell_type": "code",
   "execution_count": 170,
   "metadata": {
    "collapsed": false
   },
   "outputs": [],
   "source": [
    "def uniform_cost_search(problem, start_node):\n",
    "    if problem.goal_test(start_node.state):\n",
    "        return start_node\n",
    "\n",
    "    frontier = []\n",
    "    heapq.heappush(frontier, (0, start_node))\n",
    "    \n",
    "    frontier_states = {start_node.state:start_node.path_cost}\n",
    "    explored = set([])\n",
    "    \n",
    "    while(1):\n",
    "        try:\n",
    "            this_node = heapq.heappop(frontier)[1]\n",
    "        except IndexError:\n",
    "            return 'FAILURE' #heap was empty\n",
    "                \n",
    "        del frontier_states[this_node.state]\n",
    "        if problem.goal_test(this_node.state):\n",
    "            print this_node\n",
    "            return this_node\n",
    "        explored.add(this_node.state)\n",
    "        for action in problem.available(this_node.state):\n",
    "            this_child = child_node(problem, this_node, action)\n",
    "            if (this_child.state not in explored) and (this_child.state not in frontier_states.keys()):\n",
    "                heapq.heappush(frontier, (this_child.path_cost, this_child))\n",
    "                frontier_states[this_child.state] = this_child.path_cost\n",
    "            elif (this_child.state in frontier_states.keys()):\n",
    "                if frontier_states[this_child.state] > this_child.path_cost:\n",
    "                    frontier_states[this_child.state] = this_child.path_cost\n",
    "                    heapq.heappush(frontier, (this_child.path_cost, this_child))"
   ]
  },
  {
   "cell_type": "code",
   "execution_count": 171,
   "metadata": {
    "collapsed": true
   },
   "outputs": [],
   "source": [
    "def solution(node):\n",
    "    if node == 'FAILURE':\n",
    "        print node\n",
    "    else:\n",
    "        path = []\n",
    "        this_node = node\n",
    "        while(this_node is not None):\n",
    "            path.append(this_node.state)\n",
    "            this_node = this_node.parent\n",
    "        path.reverse()\n",
    "        print path"
   ]
  },
  {
   "cell_type": "code",
   "execution_count": 172,
   "metadata": {
    "collapsed": true
   },
   "outputs": [],
   "source": [
    "def recursive_dls(this_node, problem, limit):\n",
    "    if problem.goal_test(this_node.state):\n",
    "        return this_node\n",
    "    if limit == 0:\n",
    "        return 'CUTOFF'\n",
    "    cutoffp = False\n",
    "    for action in problem.available(this_node.state):\n",
    "        this_child = child_node(problem, this_node, action)\n",
    "        result = recursive_dls(this_child, problem, limit-1)\n",
    "        if result == 'CUTOFF':\n",
    "            cutoffp = True\n",
    "        elif result != 'FAILURE':\n",
    "            return result\n",
    "    if cutoffp:\n",
    "        return 'CUTOFF'\n",
    "    else:\n",
    "        return 'FAILURE'\n",
    "    \n",
    "def depth_limited_search(problem, limit, start_node):\n",
    "    return recursive_dls(start_node, problem, limit)"
   ]
  },
  {
   "cell_type": "code",
   "execution_count": 173,
   "metadata": {
    "collapsed": true
   },
   "outputs": [],
   "source": [
    "def iterative_deepening_search(this_problem, start_node):\n",
    "    depth = 0\n",
    "    while(1):\n",
    "        result = depth_limited_search(this_problem, depth, start_node)\n",
    "        if result != 'CUTOFF':\n",
    "            return result\n",
    "        depth += 1"
   ]
  },
  {
   "cell_type": "markdown",
   "metadata": {},
   "source": [
    "#Peg Solitaire"
   ]
  },
  {
   "cell_type": "code",
   "execution_count": 174,
   "metadata": {
    "collapsed": true
   },
   "outputs": [],
   "source": [
    "#Define a state as a mapping from (row, column) coordinates to boolean indicating presence of peg\n",
    "#Define an action via the initial location and final locations of the moving peg\n",
    "\n",
    "#What must we check to ensure a proposed move is valid?\n",
    "# Start, end are on board\n",
    "# Start, end are one jump apart\n",
    "# Peg in start\n",
    "# No peg in end\n",
    "# Peg in between"
   ]
  },
  {
   "cell_type": "code",
   "execution_count": 175,
   "metadata": {
    "collapsed": true
   },
   "outputs": [],
   "source": [
    "#What is required to define the problem?\n",
    "\n",
    "#A function that takes a state and returns available actions\n",
    "#A function that takes a state and action and returns the resulting state\n",
    "#A function that tests if the goal is reached"
   ]
  },
  {
   "cell_type": "code",
   "execution_count": 176,
   "metadata": {
    "collapsed": true
   },
   "outputs": [],
   "source": [
    "class Site():\n",
    "    def __init__(self, index):\n",
    "        self.index = index # Index of site\n",
    "        self.neighbors = [] # List of sites that are nearest neighbors\n",
    "        self.jumps = [] # List of potential jumps\n",
    "        self.occupied = False\n",
    "        \n",
    "    @property\n",
    "    def coords(self):\n",
    "        '''Coordinates of geometric representation of site. For square lattice this is just indices'''\n",
    "        return self.index\n",
    "    \n",
    "class TriSite(Site):\n",
    "    @property\n",
    "    def coords(self):\n",
    "        '''Coordinates of geometric representation of site. Triangular lattice.'''\n",
    "        xx, yy = self.index\n",
    "        x_pt = -0.5 * (yy - 1) + xx\n",
    "        return (x_pt, yy)\n",
    "    \n",
    "    def display(self):\n",
    "        xx, yy = self.coords\n",
    "        plt.plot(xx, yy, '*', color='yellow', markersize=10)\n",
    "    \n",
    "    def display_neighbors(self):\n",
    "        for site in self.neighbors:\n",
    "            if site is not None:\n",
    "                xx, yy = site.coords\n",
    "                plt.plot(xx, yy, 'o', color='green', markersize=10)\n",
    "                \n",
    "    def display_jumps(self):\n",
    "        for jump in self.jumps:\n",
    "            xx, yy = jump.end.coords\n",
    "            plt.plot(xx, yy, 'o', color='blue', markersize=10)  \n",
    "            "
   ]
  },
  {
   "cell_type": "code",
   "execution_count": 177,
   "metadata": {
    "collapsed": true
   },
   "outputs": [],
   "source": [
    "class Jump():\n",
    "    def __init__(self, start, mid, end):\n",
    "        self.start = start\n",
    "        self.mid = mid\n",
    "        self.end = end\n",
    "        \n",
    "    def describe(self):\n",
    "        print 'Move peg in %s over %s into %s'%(self.start.index, self.mid.index, self.end.index)\n",
    "     "
   ]
  },
  {
   "cell_type": "code",
   "execution_count": 178,
   "metadata": {
    "collapsed": false
   },
   "outputs": [],
   "source": [
    "   \n",
    "class Board(object):\n",
    "    def __init__(self):\n",
    "        self.sites = [] # List of sites on the board\n",
    "        self.indices = [] # List of valid indices\n",
    "        self.index_map = {} # Mapping from indices to sites\n",
    "        \n",
    "    def display(self):\n",
    "        exes = []\n",
    "        wyes = []\n",
    "        for site in self.sites:\n",
    "            xx, yy = site.coords\n",
    "            exes.append(xx)\n",
    "            wyes.append(yy)\n",
    "            if site.occupied:\n",
    "                color = 'red'\n",
    "            else:\n",
    "                color = 'black'\n",
    "            plt.plot(xx, yy, 'o', color=color, markersize=10)\n",
    "        plt.xlim(0, max(exes)+1)\n",
    "        plt.ylim(0, max(wyes)+1)\n",
    "        \n",
    "    def set_state(self, state):\n",
    "        for entry in state:\n",
    "            index, occupation = entry\n",
    "            assert index in self.indices\n",
    "            self.index_map[index].occupied = occupation\n",
    "            \n",
    "    @property\n",
    "    def state(self):\n",
    "        state = []\n",
    "        for site in self.sites:\n",
    "            site_state = (site.index, site.occupied)\n",
    "            state.append(site_state)\n",
    "        return tuple(state)\n",
    "            \n",
    "    @property\n",
    "    def allowed_moves(self):\n",
    "        moves = []\n",
    "        start_sites = filter(lambda x: x.occupied, self.sites)\n",
    "        for site in start_sites:\n",
    "            allowed_jumps = filter(lambda x: x.mid.occupied and not x.end.occupied, site.jumps)\n",
    "            moves.extend(allowed_jumps)\n",
    "        return moves\n",
    "    \n",
    "    def list_moves(self):\n",
    "        for move in self.allowed_moves:\n",
    "            move.describe()\n",
    "    \n",
    "    def apply_move(self, jump):\n",
    "        assert jump.start in self.sites\n",
    "        assert jump.mid in self.sites\n",
    "        assert jump.end in self.sites\n",
    "        assert jump in jump.start.jumps\n",
    "        assert jump.start.occupied\n",
    "        assert not jump.end.occupied\n",
    "        assert jump.mid.occupied\n",
    "        \n",
    "        jump.start.occupied = False\n",
    "        jump.mid.occupied = False\n",
    "        jump.end.occupied = True\n",
    "    \n",
    "    @property\n",
    "    def score(self):\n",
    "        return len(filter(lambda x: x.occupied, self.sites))\n",
    "    \n",
    "class TriBoard(Board):\n",
    "    '''Board with Triangular Lattice'''\n",
    "    def __init__(self, nrows):\n",
    "        super(TriBoard, self).__init__()\n",
    "        for ii in range(1, nrows+1):\n",
    "            for jj in range(1, ii+1):\n",
    "                this_site = TriSite((ii, jj))\n",
    "                self.sites.append(this_site)\n",
    "                self.indices.append((ii, jj))\n",
    "                self.index_map.update({(ii,jj):this_site})\n",
    "\n",
    "        for site in self.sites:\n",
    "            ii, jj = site.index\n",
    "            neighbor_indices = [(ii-1, jj), (ii, jj+1), (ii+1, jj+1), (ii+1, jj), (ii, jj-1), (ii-1, jj-1)]\n",
    "            for index in neighbor_indices:\n",
    "                if index in self.indices:\n",
    "                    this_neighbor = self.index_map[index]\n",
    "                    site.neighbors.append(this_neighbor)\n",
    "                else:\n",
    "                    site.neighbors.append(None)\n",
    "\n",
    "        for site in self.sites:\n",
    "            for ii in range(len(site.neighbors)):\n",
    "                neighbor_ii = site.neighbors[ii]\n",
    "                if neighbor_ii is not None:\n",
    "                    nn_neighbor_ii = neighbor_ii.neighbors[ii]\n",
    "                    if nn_neighbor_ii is not None:\n",
    "                        this_jump = Jump(site, neighbor_ii, nn_neighbor_ii)\n",
    "                        site.jumps.append(this_jump)\n",
    "                        \n",
    "        for site in self.sites:\n",
    "            if site.index != (3,1):\n",
    "                site.occupied = True\n",
    "                \n",
    "    def repopulate(self):\n",
    "        for site in self.sites:\n",
    "            if site.index != (3,1):\n",
    "                site.occupied = True\n",
    "            else:\n",
    "                site.occupied = False\n",
    "        \n",
    "        \n",
    "## Build a triangular board\n",
    "this_board = TriBoard(7)"
   ]
  },
  {
   "cell_type": "code",
   "execution_count": 179,
   "metadata": {
    "collapsed": false
   },
   "outputs": [
    {
     "data": {
      "image/png": "[encoded data removed]",
      "text/plain": [
       "<matplotlib.figure.Figure at 0x7f648c8c1250>"
      ]
     },
     "metadata": {},
     "output_type": "display_data"
    }
   ],
   "source": [
    "this_board.display()\n",
    "#print this_board.sites[NN].index\n",
    "#this_board.sites[NN].display()\n",
    "#this_board.sites[NN].display_neighbors()\n",
    "#this_board.sites[NN].display_jumps()"
   ]
  },
  {
   "cell_type": "code",
   "execution_count": 180,
   "metadata": {
    "collapsed": false
   },
   "outputs": [
    {
     "name": "stdout",
     "output_type": "stream",
     "text": [
      "Move peg in (1, 1) over (2, 1) into (3, 1)\n",
      "Move peg in (3, 3) over (3, 2) into (3, 1)\n",
      "Move peg in (5, 1) over (4, 1) into (3, 1)\n",
      "Move peg in (5, 3) over (4, 2) into (3, 1)\n"
     ]
    }
   ],
   "source": [
    "this_board.list_moves()"
   ]
  },
  {
   "cell_type": "code",
   "execution_count": 181,
   "metadata": {
    "collapsed": false
   },
   "outputs": [
    {
     "name": "stdout",
     "output_type": "stream",
     "text": [
      "(((1, 1), True), ((2, 1), True), ((2, 2), True), ((3, 1), False), ((3, 2), True), ((3, 3), True), ((4, 1), True), ((4, 2), True), ((4, 3), True), ((4, 4), True), ((5, 1), True), ((5, 2), True), ((5, 3), True), ((5, 4), True), ((5, 5), True), ((6, 1), True), ((6, 2), True), ((6, 3), True), ((6, 4), True), ((6, 5), True), ((6, 6), True), ((7, 1), True), ((7, 2), True), ((7, 3), True), ((7, 4), True), ((7, 5), True), ((7, 6), True), ((7, 7), True))\n"
     ]
    }
   ],
   "source": [
    "print this_board.state"
   ]
  },
  {
   "cell_type": "code",
   "execution_count": 182,
   "metadata": {
    "collapsed": false
   },
   "outputs": [
    {
     "data": {
      "image/png": "[encoded data removed]",
      "text/plain": [
       "<matplotlib.figure.Figure at 0x7f648c870050>"
      ]
     },
     "metadata": {},
     "output_type": "display_data"
    }
   ],
   "source": [
    "first_move = this_board.allowed_moves[0]\n",
    "this_board.apply_move(first_move)\n",
    "this_board.display()"
   ]
  },
  {
   "cell_type": "code",
   "execution_count": 183,
   "metadata": {
    "collapsed": false
   },
   "outputs": [
    {
     "name": "stdout",
     "output_type": "stream",
     "text": [
      "Move peg in (3, 3) over (2, 2) into (1, 1)\n",
      "Move peg in (4, 1) over (3, 1) into (2, 1)\n",
      "Move peg in (4, 3) over (3, 2) into (2, 1)\n"
     ]
    }
   ],
   "source": [
    "this_board.list_moves()"
   ]
  },
  {
   "cell_type": "code",
   "execution_count": 184,
   "metadata": {
    "collapsed": false
   },
   "outputs": [
    {
     "data": {
      "text/plain": [
       "(array([   9.,   22.,   92.,  144.,    0.,  102.,   24.,    2.,    3.,    2.]),\n",
       " array([ 1. ,  1.8,  2.6,  3.4,  4.2,  5. ,  5.8,  6.6,  7.4,  8.2,  9. ]),\n",
       " <a list of 10 Patch objects>)"
      ]
     },
     "execution_count": 184,
     "metadata": {},
     "output_type": "execute_result"
    },
    {
     "data": {
      "image/png": "[encoded data removed]",
      "text/plain": [
       "<matplotlib.figure.Figure at 0x7f648c3644d0>"
      ]
     },
     "metadata": {},
     "output_type": "display_data"
    }
   ],
   "source": [
    "## Get some idea of the performance of a random solver\n",
    "\n",
    "numruns = 400\n",
    "final_scores = []\n",
    "\n",
    "for ii in range(numruns):\n",
    "    this_board = TriBoard(6)\n",
    "    while len(this_board.allowed_moves) > 0:\n",
    "        this_move = np.random.choice(this_board.allowed_moves)\n",
    "        #this_move.describe()\n",
    "        this_board.apply_move(this_move)\n",
    "        #this_board.display()\n",
    "    final_scores.append(this_board.score)\n",
    "plt.hist(final_scores)"
   ]
  },
  {
   "cell_type": "code",
   "execution_count": 185,
   "metadata": {
    "collapsed": false
   },
   "outputs": [
    {
     "name": "stdout",
     "output_type": "stream",
     "text": [
      "1\n",
      "\n",
      "success rate:\n",
      "0.0225\n"
     ]
    }
   ],
   "source": [
    "print np.min(final_scores)\n",
    "print \"\\nsuccess rate:\"\n",
    "print float(len(filter(lambda x: x == 1, final_scores))) / numruns"
   ]
  },
  {
   "cell_type": "code",
   "execution_count": 186,
   "metadata": {
    "collapsed": true
   },
   "outputs": [],
   "source": [
    "# Question I don't know how to answer: What is the distribution of final scores when moves are at random?"
   ]
  },
  {
   "cell_type": "markdown",
   "metadata": {
    "collapsed": true
   },
   "source": [
    "#Set up Peg Solitaire for graph search"
   ]
  },
  {
   "cell_type": "code",
   "execution_count": 187,
   "metadata": {
    "collapsed": true
   },
   "outputs": [],
   "source": [
    "class PegSolitaire(Problem):\n",
    "    def __init__(self, board):\n",
    "        self.board = board\n",
    "    \n",
    "    def result(self, state, action):\n",
    "        self.board.set_state(state)\n",
    "        assert action in self.board.allowed_moves\n",
    "        self.board.apply_move(action)\n",
    "        return self.board.state\n",
    "        \n",
    "        \n",
    "    def cost(self, action):\n",
    "        return 1\n",
    "        \n",
    "    def available(self, state):\n",
    "        self.board.set_state(state)\n",
    "        return self.board.allowed_moves\n",
    "    \n",
    "    def goal_test(self, state):\n",
    "        score = len(filter(lambda x: x, [ss[1] for ss in state]))\n",
    "        return score == 1"
   ]
  },
  {
   "cell_type": "code",
   "execution_count": 188,
   "metadata": {
    "collapsed": false
   },
   "outputs": [],
   "source": [
    "this_board = TriBoard(5)\n",
    "this_start_state = this_board.state\n",
    "this_start_node = Node(this_start_state, None, None, 0)\n",
    "this_solitaire = PegSolitaire(this_board)"
   ]
  },
  {
   "cell_type": "code",
   "execution_count": 189,
   "metadata": {
    "collapsed": false
   },
   "outputs": [
    {
     "name": "stdout",
     "output_type": "stream",
     "text": [
      "(((1, 1), True), ((2, 1), True), ((2, 2), True), ((3, 1), False), ((3, 2), True), ((3, 3), True), ((4, 1), True), ((4, 2), True), ((4, 3), True), ((4, 4), True), ((5, 1), True), ((5, 2), True), ((5, 3), True), ((5, 4), True), ((5, 5), True))\n",
      "(((1, 1), True), ((2, 1), True), ((2, 2), True), ((3, 1), False), ((3, 2), True), ((3, 3), True), ((4, 1), True), ((4, 2), True), ((4, 3), True), ((4, 4), True), ((5, 1), True), ((5, 2), True), ((5, 3), True), ((5, 4), True), ((5, 5), True))\n",
      "(((1, 1), True), ((2, 1), True), ((2, 2), True), ((3, 1), False), ((3, 2), True), ((3, 3), True), ((4, 1), True), ((4, 2), True), ((4, 3), True), ((4, 4), True), ((5, 1), True), ((5, 2), True), ((5, 3), True), ((5, 4), True), ((5, 5), True))\n"
     ]
    }
   ],
   "source": [
    "print this_board.state\n",
    "print this_start_state\n",
    "print this_start_node.state"
   ]
  },
  {
   "cell_type": "code",
   "execution_count": 190,
   "metadata": {
    "collapsed": true
   },
   "outputs": [],
   "source": [
    "def solution_ps(node):\n",
    "    if node == 'FAILURE':\n",
    "        print node\n",
    "    else:\n",
    "        path = []\n",
    "        this_node = node\n",
    "        while(this_node is not None):\n",
    "            path.append(this_node.action)\n",
    "            this_node = this_node.parent\n",
    "        path.reverse()\n",
    "        return path[1:]\n",
    "    \n",
    "def describe_solution(node):\n",
    "    path = solution_ps(node)\n",
    "    for jump in path:\n",
    "        jump.describe()"
   ]
  },
  {
   "cell_type": "code",
   "execution_count": 191,
   "metadata": {
    "collapsed": false
   },
   "outputs": [],
   "source": [
    "peg_solution = breadth_first_search(this_solitaire, this_start_node)"
   ]
  },
  {
   "cell_type": "code",
   "execution_count": 192,
   "metadata": {
    "collapsed": false
   },
   "outputs": [
    {
     "name": "stdout",
     "output_type": "stream",
     "text": [
      "[<__main__.Jump instance at 0x7f648c55a2d8>, <__main__.Jump instance at 0x7f648c4a80e0>, <__main__.Jump instance at 0x7f648c55a878>, <__main__.Jump instance at 0x7f648c4a87e8>, <__main__.Jump instance at 0x7f648c55a758>, <__main__.Jump instance at 0x7f648c4a8f38>, <__main__.Jump instance at 0x7f648c4a8320>, <__main__.Jump instance at 0x7f648c4a8e18>, <__main__.Jump instance at 0x7f648c4a8098>, <__main__.Jump instance at 0x7f648c4a8d40>, <__main__.Jump instance at 0x7f648c55ac68>, <__main__.Jump instance at 0x7f648c55ad40>, <__main__.Jump instance at 0x7f648c4a86c8>]\n"
     ]
    }
   ],
   "source": [
    "print solution_ps(peg_solution)"
   ]
  },
  {
   "cell_type": "code",
   "execution_count": 193,
   "metadata": {
    "collapsed": false
   },
   "outputs": [
    {
     "name": "stdout",
     "output_type": "stream",
     "text": [
      "Move peg in (1, 1) over (2, 1) into (3, 1)\n",
      "Move peg in (3, 3) over (2, 2) into (1, 1)\n",
      "Move peg in (3, 1) over (3, 2) into (3, 3)\n",
      "Move peg in (4, 4) over (3, 3) into (2, 2)\n",
      "Move peg in (1, 1) over (2, 2) into (3, 3)\n",
      "Move peg in (5, 3) over (4, 2) into (3, 1)\n",
      "Move peg in (4, 1) over (3, 1) into (2, 1)\n",
      "Move peg in (5, 5) over (5, 4) into (5, 3)\n",
      "Move peg in (5, 2) over (5, 3) into (5, 4)\n",
      "Move peg in (5, 4) over (4, 3) into (3, 2)\n",
      "Move peg in (3, 3) over (3, 2) into (3, 1)\n",
      "Move peg in (2, 1) over (3, 1) into (4, 1)\n",
      "Move peg in (5, 1) over (4, 1) into (3, 1)\n"
     ]
    }
   ],
   "source": [
    "describe_solution(peg_solution)"
   ]
  },
  {
   "cell_type": "code",
   "execution_count": 194,
   "metadata": {
    "collapsed": false,
    "scrolled": false
   },
   "outputs": [
    {
     "data": {
      "image/png": "[encoded data removed]",
      "text/plain": [
       "<matplotlib.figure.Figure at 0x7f648c79f910>"
      ]
     },
     "metadata": {},
     "output_type": "display_data"
    },
    {
     "data": {
      "image/png": "[encoded data removed]",
      "text/plain": [
       "<matplotlib.figure.Figure at 0x7f648bb83b10>"
      ]
     },
     "metadata": {},
     "output_type": "display_data"
    },
    {
     "data": {
      "image/png": "[encoded data removed]",
      "text/plain": [
       "<matplotlib.figure.Figure at 0x7f648c0b9d10>"
      ]
     },
     "metadata": {},
     "output_type": "display_data"
    },
    {
     "data": {
      "image/png": "[encoded data removed]",
      "text/plain": [
       "<matplotlib.figure.Figure at 0x7f648c2f69d0>"
      ]
     },
     "metadata": {},
     "output_type": "display_data"
    },
    {
     "data": {
      "image/png": "[encoded data removed]",
      "text/plain": [
       "<matplotlib.figure.Figure at 0x7f648beb9490>"
      ]
     },
     "metadata": {},
     "output_type": "display_data"
    },
    {
     "data": {
      "image/png": "[encoded data removed]",
      "text/plain": [
       "<matplotlib.figure.Figure at 0x7f648c6b7550>"
      ]
     },
     "metadata": {},
     "output_type": "display_data"
    },
    {
     "data": {
      "image/png": "[encoded data removed]",
      "text/plain": [
       "<matplotlib.figure.Figure at 0x7f648c325190>"
      ]
     },
     "metadata": {},
     "output_type": "display_data"
    },
    {
     "data": {
      "image/png": "[encoded data removed]",
      "text/plain": [
       "<matplotlib.figure.Figure at 0x7f648bd89090>"
      ]
     },
     "metadata": {},
     "output_type": "display_data"
    },
    {
     "data": {
      "image/png": "[encoded data removed]",
      "text/plain": [
       "<matplotlib.figure.Figure at 0x7f648bbfc150>"
      ]
     },
     "metadata": {},
     "output_type": "display_data"
    },
    {
     "data": {
      "image/png": "[encoded data removed]",
      "text/plain": [
       "<matplotlib.figure.Figure at 0x7f648c0b2e50>"
      ]
     },
     "metadata": {},
     "output_type": "display_data"
    },
    {
     "data": {
      "image/png": "[encoded data removed]",
      "text/plain": [
       "<matplotlib.figure.Figure at 0x7f648bc57e10>"
      ]
     },
     "metadata": {},
     "output_type": "display_data"
    },
    {
     "data": {
      "image/png": "[encoded data removed]",
      "text/plain": [
       "<matplotlib.figure.Figure at 0x7f648be9b8d0>"
      ]
     },
     "metadata": {},
     "output_type": "display_data"
    },
    {
     "data": {
      "image/png": "[encoded data removed]",
      "text/plain": [
       "<matplotlib.figure.Figure at 0x7f648bc85c10>"
      ]
     },
     "metadata": {},
     "output_type": "display_data"
    }
   ],
   "source": [
    "this_board.repopulate()\n",
    "for jump in solution_ps(peg_solution):\n",
    "    #jump.describe()\n",
    "    this_board.apply_move(jump)\n",
    "    plt.figure()\n",
    "    this_board.display()"
   ]
  },
  {
   "cell_type": "code",
   "execution_count": null,
   "metadata": {
    "collapsed": true
   },
   "outputs": [],
   "source": []
  }
 ],
 "metadata": {
  "kernelspec": {
   "display_name": "Python 2",
   "language": "python",
   "name": "python2"
  },
  "language_info": {
   "codemirror_mode": {
    "name": "ipython",
    "version": 2
   },
   "file_extension": ".py",
   "mimetype": "text/x-python",
   "name": "python",
   "nbconvert_exporter": "python",
   "pygments_lexer": "ipython2",
   "version": "2.7.6"
  }
 },
 "nbformat": 4,
 "nbformat_minor": 0
}
